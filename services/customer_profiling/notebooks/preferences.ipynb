{
 "cells": [
  {
   "cell_type": "code",
   "execution_count": 6,
   "metadata": {},
   "outputs": [],
   "source": [
    "from langchain_openai import AzureChatOpenAI\n",
    "from dotenv import load_dotenv\n",
    "from langchain_core.prompts import ChatPromptTemplate\n",
    "from pydantic import BaseModel, Field\n",
    "import os\n",
    "\n",
    "load_dotenv()\n",
    "API_KEY = os.getenv('AZURE_OPENAI_API_KEY')\n",
    "ENDPOINT = os.getenv('AZURE_OPENAI_ENDPOINT')\n",
    "os.environ[\"AZURE_OPENAI_ENDPOINT\"] = ENDPOINT\n",
    "os.environ[\"AZURE_OPENAI_API_KEY\"] = API_KEY"
   ]
  },
  {
   "cell_type": "code",
   "execution_count": 7,
   "metadata": {},
   "outputs": [],
   "source": [
    "llm = AzureChatOpenAI(\n",
    "    azure_deployment=\"gpt-4o-mini\",\n",
    "    api_version=\"2023-03-15-preview\",\n",
    "    temperature=0,\n",
    "    max_tokens=None,\n",
    "    timeout=None,\n",
    "    max_retries=2,\n",
    ")"
   ]
  },
  {
   "cell_type": "code",
   "execution_count": 8,
   "metadata": {},
   "outputs": [],
   "source": [
    "class Preferences(BaseModel):\n",
    "    preferences: list[str] = Field(\n",
    "        description=\"A list of natural language texts(each text is a clearly defined preference)\"\n",
    "    )\n",
    "    confirmation: str = Field(\n",
    "        default=\"False\",\n",
    "        description=\"True if the investor gave his preferences, else it is False\"\n",
    "    )"
   ]
  },
  {
   "cell_type": "code",
   "execution_count": null,
   "metadata": {},
   "outputs": [],
   "source": []
  },
  {
   "cell_type": "code",
   "execution_count": 19,
   "metadata": {},
   "outputs": [],
   "source": [
    "def preferences_confirmation(query, chat_history):\n",
    "    structured_llm_preferences = llm.with_structured_output(Preferences)\n",
    "    router_template = \"\"\"\n",
    "    You are a financial advisor helpful but not talkative. Be concise, kind but dont talk too much.\n",
    "    You are tasked to get the preferences of the investor.\n",
    "    If the investor give you his preferences thank him and ask him to wait till the asset selection and portfolio optimization complete workflow is completed successfully.\n",
    "    Else Tell him to provide you with his preferences. \n",
    "    Example of investor preferences: I want to invest in halal investment, I dont want to invest in industry like healthcare more than others! I prefer to invest in arabic countries if possible\n",
    "    you should provide an output : \n",
    "    preferences [\"halal investment\", \"prefer healtchare sector/industry related companies\", \"prefer arabic countries\"]\n",
    "    confirmation: \"True\"\n",
    "    Another example of not clearly defined preferences: I want to invest in good companies and that can give me a lot of wealth\n",
    "    you should provide an output : \n",
    "    preferences: []\n",
    "    confirmation: \"False\"\n",
    "    \"\"\"\n",
    "\n",
    "    preferences_prompt = ChatPromptTemplate.from_messages(\n",
    "        [(\"system\", router_template), (\"human\", \"The investor preferences :\\n\\n {preferences}\")]\n",
    "    )\n",
    "    preferences = preferences_prompt | structured_llm_preferences\n",
    "    response = preferences.invoke({\"preferences\": query})\n",
    "    if response.confirmation == \"True\":\n",
    "        chat_history['preferences_state'] = True\n",
    "    return response"
   ]
  },
  {
   "cell_type": "code",
   "execution_count": 20,
   "metadata": {},
   "outputs": [
    {
     "ename": "TypeError",
     "evalue": "check_router() missing 1 required positional argument: 'chat_history'",
     "output_type": "error",
     "traceback": [
      "\u001b[1;31m---------------------------------------------------------------------------\u001b[0m",
      "\u001b[1;31mTypeError\u001b[0m                                 Traceback (most recent call last)",
      "Cell \u001b[1;32mIn[20], line 1\u001b[0m\n\u001b[1;32m----> 1\u001b[0m response \u001b[38;5;241m=\u001b[39m \u001b[43mcheck_router\u001b[49m\u001b[43m(\u001b[49m\u001b[43mllm\u001b[49m\u001b[43m)\u001b[49m\n\u001b[0;32m      2\u001b[0m \u001b[38;5;28mprint\u001b[39m(response)\n",
      "\u001b[1;31mTypeError\u001b[0m: check_router() missing 1 required positional argument: 'chat_history'"
     ]
    }
   ],
   "source": [
    "response = preferences_confirmation(llm)\n",
    "print(response)"
   ]
  },
  {
   "cell_type": "code",
   "execution_count": 18,
   "metadata": {},
   "outputs": [
    {
     "data": {
      "text/plain": [
       "'False'"
      ]
     },
     "execution_count": 18,
     "metadata": {},
     "output_type": "execute_result"
    }
   ],
   "source": [
    "response.confirmation"
   ]
  },
  {
   "cell_type": "code",
   "execution_count": null,
   "metadata": {},
   "outputs": [],
   "source": []
  }
 ],
 "metadata": {
  "kernelspec": {
   "display_name": "customer-profiling-OUCVyox6-py3.12",
   "language": "python",
   "name": "python3"
  },
  "language_info": {
   "codemirror_mode": {
    "name": "ipython",
    "version": 3
   },
   "file_extension": ".py",
   "mimetype": "text/x-python",
   "name": "python",
   "nbconvert_exporter": "python",
   "pygments_lexer": "ipython3",
   "version": "3.12.4"
  }
 },
 "nbformat": 4,
 "nbformat_minor": 2
}
