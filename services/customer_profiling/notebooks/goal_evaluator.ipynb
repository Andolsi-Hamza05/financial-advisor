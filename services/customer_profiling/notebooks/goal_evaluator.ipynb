{
 "cells": [
  {
   "cell_type": "code",
   "execution_count": 17,
   "metadata": {},
   "outputs": [],
   "source": [
    "from langchain_openai import AzureChatOpenAI\n",
    "from langchain_core.tools import tool\n",
    "from pydantic import BaseModel, Field\n",
    "from langchain_core.messages import SystemMessage, HumanMessage, ToolMessage\n",
    "from langchain_core.prompts import ChatPromptTemplate\n",
    "from dotenv import load_dotenv\n",
    "import os"
   ]
  },
  {
   "cell_type": "code",
   "execution_count": 18,
   "metadata": {},
   "outputs": [
    {
     "data": {
      "text/plain": [
       "True"
      ]
     },
     "execution_count": 18,
     "metadata": {},
     "output_type": "execute_result"
    }
   ],
   "source": [
    "load_dotenv()"
   ]
  },
  {
   "cell_type": "code",
   "execution_count": 19,
   "metadata": {},
   "outputs": [],
   "source": [
    "API_KEY = os.getenv('AZURE_OPENAI_API_KEY')\n",
    "ENDPOINT = os.getenv('AZURE_OPENAI_ENDPOINT')"
   ]
  },
  {
   "cell_type": "code",
   "execution_count": 20,
   "metadata": {},
   "outputs": [],
   "source": [
    "os.environ[\"AZURE_OPENAI_ENDPOINT\"] = ENDPOINT\n",
    "os.environ[\"AZURE_OPENAI_API_KEY\"] = API_KEY"
   ]
  },
  {
   "cell_type": "code",
   "execution_count": 21,
   "metadata": {},
   "outputs": [],
   "source": [
    "llm = AzureChatOpenAI(\n",
    "    azure_deployment=\"gpt-4o-mini\",\n",
    "    api_version=\"2023-03-15-preview\",\n",
    "    temperature=0,\n",
    "    max_tokens=None,\n",
    "    timeout=None,\n",
    "    max_retries=2,\n",
    ")"
   ]
  },
  {
   "cell_type": "code",
   "execution_count": 22,
   "metadata": {},
   "outputs": [],
   "source": [
    "smt_template = \"\"\"\n",
    "You are tasked with evaluating an investment goal based on the SMART framework focusing only on these criteria(Specific, Measurable, Time-bound). \\n\n",
    "Follow these steps:\\n\n",
    "\n",
    "1. **Specific**: Check if the goal has a clear, well-defined objective (e.g., buying a car, saving for a house, etc.).\n",
    "2. **Measurable**: Ensure that the investor specifies that the goal has the following:\n",
    "   - Target future value (the total amount needed to achieve the goal). ## This must be greater than 0\n",
    "   - Initial capital investment. ## This must be greater than 0\n",
    "   - Contribution rate (monthly or annual). # This can be 0 or greater\n",
    "3. **Time-bound**: Confirm that the investor has a specific time horizon for the goal.\n",
    "\n",
    "### THIS IS AN EXAMPLE OF HOW YOU SHOULD MANAGE THE ACTUAL USER QUERY####\n",
    "Investment Goal Example: \n",
    "\"I want to buy a car worth $10,000 in 3 years. I currently have $6,000 and plan to invest $100 every month. My risk aversion coefficient is 1.2, so I expect an annual return of 2%.\"\n",
    "\n",
    "You should provide:\n",
    "- goal: \"buy a car\"\n",
    "- initial_investment: 6 000\n",
    "- monthly_contribution: 100\n",
    "- annual_return: 2% \n",
    "- target_value: 10 000\n",
    "- time_horizon: 3 years\n",
    "- is_specific: True\n",
    "- is_time: True\n",
    "- is_measurable : True\n",
    "\n",
    "### THIS IS ANOTHER EXAMPLE OF HOW YOU SHOULD MANAGE THE ACTUAL USER QUERY####\n",
    "Investment Goal Example: \n",
    "\"I want to accumulate money for retirement in 10 years. I currently have $50,000 and plan to invest $1000 annually. so I expect an annual return of 4%.\"\n",
    "\n",
    "You should provide:\n",
    "- goal: retirement\n",
    "- initial_investment: 50 000\n",
    "- monthly_contribution: 1000\n",
    "- annual_return: 0.02\n",
    "- target_value: None\n",
    "- time_horizon: 3 years\n",
    "- is_specific: True\n",
    "- is_time: True\n",
    "- is_measurable : False ## Because the target_value is not specified\n",
    "\n",
    "\"\"\""
   ]
  },
  {
   "cell_type": "code",
   "execution_count": 23,
   "metadata": {},
   "outputs": [],
   "source": [
    "class CheckSpecificMesurableTimebound(BaseModel):\n",
    "    \"\"\"Check if the goal is specific, measurable and time specified\"\"\"\n",
    "\n",
    "    goal: str = Field(description=\"The clearly defined goal of the investor, if not provided return an empty string\")\n",
    "    initial_investment: float = Field(description=\"The initial amount invested (upfront)\")\n",
    "    monthly_contribution: float = Field(description=\"The amount of money that the investor is willing to invest periodically(monthly/annually)\")\n",
    "    annual_return: float = Field(description=\"Expected annual return rate (r)\")\n",
    "    target_value: float = Field(description=\"The target future value that the investor wants to achieve.\")\n",
    "    time_horizon: int = Field(description=\"The time horizon for the investment.\")\n",
    "    is_specific: str = Field(description=\"True if the investor's goal is well defined and specified, else False.\")\n",
    "    is_time: str = Field(description=\"True if the investor's time horizon is specified, else False.\")\n",
    "    is_measurable: str = Field(description=\"True if the investor specifies the initial_investment, monthly_contribution and target_value, else False.\")\n"
   ]
  },
  {
   "cell_type": "code",
   "execution_count": 24,
   "metadata": {},
   "outputs": [],
   "source": [
    "structured_llm_smt_checker = llm.with_structured_output(CheckSpecificMesurableTimebound)\n",
    "\n",
    "smt_prompt = ChatPromptTemplate.from_messages(\n",
    "    [(\"system\", smt_template), (\"human\", \"The investor goal :\\n\\n {goal}\")]\n",
    ")\n",
    "check_smt = smt_prompt | structured_llm_smt_checker\n",
    "result = check_smt.invoke(\n",
    "    {\n",
    "        \"goal\": \"I want to plan for my vacation, so i wish to accumulate 50 000$ in 2 years\"\n",
    "    }\n",
    ")"
   ]
  },
  {
   "cell_type": "code",
   "execution_count": 26,
   "metadata": {},
   "outputs": [
    {
     "data": {
      "text/plain": [
       "CheckSpecificMesurableTimebound(goal='vacation', initial_investment=0.0, monthly_contribution=0.0, annual_return=0.0, target_value=50000.0, time_horizon=2, is_specific='True', is_time='True', is_measurable='False')"
      ]
     },
     "execution_count": 26,
     "metadata": {},
     "output_type": "execute_result"
    }
   ],
   "source": [
    "result"
   ]
  },
  {
   "cell_type": "code",
   "execution_count": null,
   "metadata": {},
   "outputs": [],
   "source": []
  },
  {
   "cell_type": "code",
   "execution_count": 204,
   "metadata": {},
   "outputs": [],
   "source": [
    "@tool\n",
    "def check_achievable(initial_investment: float, monthly_contribution: float, annual_return: float, target_value: float, time_horizon: int):\n",
    "    \"\"\"\n",
    "    Calculate the future value (FV) of an investment and compare it with the target value.\n",
    "    \n",
    "    Args:\n",
    "    - initial_investment: The starting amount of investment (P).\n",
    "    - monthly_contribution: The amount invested every month (C).\n",
    "    - annual_return: Expected annual return rate.\n",
    "    - target_value: The target future value that the investor wants to achieve.\n",
    "    - time_horizon: The time horizon for the investment.\n",
    "\n",
    "    Returns:\n",
    "    - A boolean indicating if the goal is achievable (True/False) and the calculated future value (FV).\n",
    "    \"\"\"\n",
    "    # Convert annual return to monthly return\n",
    "    r = annual_return / 12\n",
    "    # Calculate total months\n",
    "    t = time_horizon * 12\n",
    "    \n",
    "    # Future value calculation\n",
    "    FV = initial_investment * (1 + r) ** t + monthly_contribution * ((1 + r) ** t - 1) / r\n",
    "    \n",
    "    # Compare FV with the target value\n",
    "    if FV >= target_value:\n",
    "        return f\"Achievable: True, Future Value: {FV:.2f}\"\n",
    "    else:\n",
    "        return f\"Achievable: False, Future Value: {FV:.2f}\"\n",
    "\n",
    "tools = [check_achievable]"
   ]
  },
  {
   "cell_type": "code",
   "execution_count": 205,
   "metadata": {},
   "outputs": [],
   "source": [
    "achievable_template = \"\"\"\n",
    "You are tasked to evaluate achievability of an investor goal, you will be given the investor goal and extracted entities.\\n\n",
    "You should call the tool check_achievable to evaluate whether its achievable or not. \\n\n",
    "You should finally return : \\n \n",
    "- initial_investment: keep it like it is initially\n",
    "- monthly_contribution: keep it like it is initially\n",
    "- annual_return: keep it like it is initially\n",
    "- target_value: keep it like it is initially\n",
    "- time_horizon: keep it like it is initially\n",
    "- is_achievable param : True if the check_achievable function first string returned claims its achievable and False if not.\n",
    "- future_investment_value : The actual calculated future value by the second param returned by tool calling.\n",
    "\n",
    "## EXAMPLE:\n",
    "I want to buy a car worth $10,000 in 3 years. I currently have $6,000 and plan to invest $100 every month. My risk aversion coefficient is 1.2, so I expect an annual return of 2%.\"\n",
    "\n",
    "- initial_investment: 6 000\n",
    "- monthly_contribution: 100\n",
    "- annual_return: 2% \n",
    "- target_value: 10 000\n",
    "- time_horizon: 3 years\n",
    "\n",
    "You should return :\n",
    "- initial_investment: 6 000\n",
    "- monthly_contribution: 100\n",
    "- annual_return: 2% \n",
    "- target_value: 10 000\n",
    "- time_horizon: 3 years\n",
    "- is_achievable : True\n",
    "- future_investment_value : 10077.71\n",
    "\n",
    "## APPLY NOW\n",
    "Now that you have seen an example of your workflow you should follow it to do the same for the actual human investor query\n",
    "\"\"\""
   ]
  },
  {
   "cell_type": "code",
   "execution_count": 206,
   "metadata": {},
   "outputs": [],
   "source": [
    "query = \"\"\"I want to plan for my vacation, so i wish to accumulate 50 000$ in 2 years with initial investment 5000$ and monthly contribution of 500$\n",
    "- initial_investment: 5000\n",
    "- monthly_contribution: 500\n",
    "- annual_return: 0.02\n",
    "- target_value: 50 000\n",
    "- time_horizon: 2\n",
    "\"\"\""
   ]
  },
  {
   "cell_type": "code",
   "execution_count": 213,
   "metadata": {},
   "outputs": [],
   "source": [
    "class CheckAchievable(BaseModel):\n",
    "    \"\"\"Check if the goal is specific, measurable and time specified\"\"\"\n",
    "\n",
    "    initial_investment: float = Field(description=\"The initial amount invested (upfront)\")\n",
    "    monthly_contribution: float = Field(description=\"The amount of money that the investor is willing to invest periodically(monthly/annually)\")\n",
    "    annual_return: float = Field(description=\"Expected annual return rate (r)\")\n",
    "    target_value: float = Field(description=\"The target future value that the investor wants to achieve.\")\n",
    "    time_horizon: int = Field(description=\"The time horizon for the investment.\")\n",
    "    future_investment_value: float = Field(description=\"The calculated future worth of the investment in the future\")\n",
    "    is_achievable: str = Field(description=\"True if the check_achievable function first string returned claims its achievable and False if not.\")\n"
   ]
  },
  {
   "cell_type": "code",
   "execution_count": null,
   "metadata": {},
   "outputs": [],
   "source": []
  },
  {
   "cell_type": "code",
   "execution_count": 219,
   "metadata": {},
   "outputs": [],
   "source": [
    "tool_mapping = {\"check_achievable\": check_achievable}\n",
    "\n",
    "def interact_with_llm_and_tools(human_message: str):\n",
    "\n",
    "    llm = AzureChatOpenAI(\n",
    "    azure_deployment=\"gpt-4o-mini\",\n",
    "    api_version=\"2023-03-15-preview\",\n",
    "    temperature=0,\n",
    "    )\n",
    "\n",
    "    llm = llm\n",
    "    llm_with_tools_new = llm.bind_tools(tools)\n",
    "    \n",
    "    messages = [HumanMessage(human_message)]\n",
    "\n",
    "    llm_output = llm_with_tools_new.invoke(messages)\n",
    "    messages.append(llm_output)\n",
    "\n",
    "    for tool_call in llm_output.tool_calls:\n",
    "        tool_name = tool_call[\"name\"].lower()\n",
    "        tool = tool_mapping.get(tool_name)\n",
    "\n",
    "        if tool:\n",
    "            tool_output = tool.invoke(tool_call[\"args\"])\n",
    "            messages.append(ToolMessage(tool_output, tool_call_id=tool_call[\"id\"]))\n",
    "\n",
    "    final_response = llm_with_tools_new.invoke(messages)\n",
    "    return final_response"
   ]
  },
  {
   "cell_type": "code",
   "execution_count": 220,
   "metadata": {},
   "outputs": [],
   "source": [
    "response = interact_with_llm_and_tools(achievable_template + query)"
   ]
  },
  {
   "cell_type": "code",
   "execution_count": 221,
   "metadata": {},
   "outputs": [
    {
     "name": "stdout",
     "output_type": "stream",
     "text": [
      "content='Here are the details based on the evaluation:\\n\\n- initial_investment: 5,000\\n- monthly_contribution: 500\\n- annual_return: 2%\\n- target_value: 50,000\\n- time_horizon: 2 years\\n- is_achievable: True\\n- future_investment_value: 320,454.31' additional_kwargs={'refusal': None} response_metadata={'token_usage': {'completion_tokens': 75, 'prompt_tokens': 676, 'total_tokens': 751, 'completion_tokens_details': None}, 'model_name': 'gpt-4o-mini', 'system_fingerprint': 'fp_878413d04d', 'finish_reason': 'stop', 'logprobs': None, 'content_filter_results': {}} id='run-fe687971-c82b-466b-85e8-20d6f7b1f1b4-0' usage_metadata={'input_tokens': 676, 'output_tokens': 75, 'total_tokens': 751}\n"
     ]
    }
   ],
   "source": [
    "print(str(response))"
   ]
  },
  {
   "cell_type": "code",
   "execution_count": 222,
   "metadata": {},
   "outputs": [],
   "source": [
    "structured_llm_achievability_checker = llm.with_structured_output(CheckAchievable)\n",
    "\n",
    "achievable_prompt = ChatPromptTemplate.from_messages(\n",
    "    [(\"system\", smt_template), (\"human\", \"The investor goal :\\n\\n {input}\")]\n",
    ")\n",
    "achievable = achievable_prompt | structured_llm_achievability_checker\n",
    "result = achievable.invoke(\n",
    "    {\n",
    "        \"input\": str(interact_with_llm_and_tools(achievable_template + query))\n",
    "    }\n",
    ")"
   ]
  },
  {
   "cell_type": "code",
   "execution_count": 224,
   "metadata": {},
   "outputs": [
    {
     "data": {
      "text/plain": [
       "CheckAchievable(initial_investment=5000.0, monthly_contribution=500.0, annual_return=0.02, target_value=50000.0, time_horizon=2, future_investment_value=320454.31, is_achievable='True')"
      ]
     },
     "execution_count": 224,
     "metadata": {},
     "output_type": "execute_result"
    }
   ],
   "source": [
    "result"
   ]
  },
  {
   "cell_type": "code",
   "execution_count": null,
   "metadata": {},
   "outputs": [],
   "source": []
  },
  {
   "cell_type": "code",
   "execution_count": null,
   "metadata": {},
   "outputs": [],
   "source": []
  },
  {
   "cell_type": "code",
   "execution_count": 225,
   "metadata": {},
   "outputs": [
    {
     "name": "stdout",
     "output_type": "stream",
     "text": [
      "content=\"To determine if your investment goal is SMART, let's break it down into its components: Specific, Measurable, Achievable, Relevant, and Time-bound.\\n\\n### Specific\\nYour investment goal is clearly defined: you want to reach a target value of $50,000. This specificity helps you understand exactly what you are aiming for.\\n\\n### Measurable\\nYou can measure your progress towards this goal. With an initial investment of $5,000 and monthly contributions of $500, you can track how much you have invested over time and how close you are to reaching your target. The future investment value calculation shows that you will accumulate a significant amount, which can be monitored regularly.\\n\\n### Achievable\\nThe goal is deemed achievable based on your evaluation. With an annual return of 2%, your investment strategy is realistic given the contributions and initial investment. The future investment value of $320,454.31 indicates that you are on a solid path to not only meet but exceed your target.\\n\\n### Relevant\\nThis investment goal is relevant to your financial situation and objectives. It aligns with your desire to grow your wealth and can be part of a larger financial plan, whether for retirement, a major purchase, or other financial aspirations.\\n\\n### Time-bound\\nYou have set a clear time horizon of 2 years to achieve this goal. This deadline creates a sense of urgency and helps you stay focused on your contributions and investment strategy.\\n\\n### Conclusion\\nIn summary, your investment goal of reaching $50,000 in 2 years is indeed SMART. It is specific, measurable, achievable, relevant, and time-bound. This structured approach will help you stay on track and make informed decisions as you work towards your financial objectives.\" additional_kwargs={'refusal': None} response_metadata={'token_usage': {'completion_tokens': 343, 'prompt_tokens': 116, 'total_tokens': 459, 'completion_tokens_details': None}, 'model_name': 'gpt-4o-mini', 'system_fingerprint': 'fp_878413d04d', 'finish_reason': 'stop', 'logprobs': None, 'content_filter_results': {}} id='run-712457d7-aca9-4c9c-be0b-2e0f71fd0062-0' usage_metadata={'input_tokens': 116, 'output_tokens': 343, 'total_tokens': 459}\n"
     ]
    }
   ],
   "source": [
    "accept_system = \"\"\"You are a financial advisor tasked with explaining that the given investment goal is SMART since it is specific, measurable, fixed in time and achievable.\"\"\"\n",
    "accept_prompt = ChatPromptTemplate.from_messages(\n",
    "    [(\"system\", accept_system), (\"human\", \"investment informations:\\n\\n {investment}\")]\n",
    ")\n",
    "\n",
    "accept = accept_prompt | llm\n",
    "\n",
    "investment_goal = \"Here are the details based on the evaluation:\\n\\n- initial_investment: 5,000\\n- monthly_contribution: 500\\n- annual_return: 2%\\n- target_value: 50,000\\n- time_horizon: 2 years\\n- is_achievable: True\\n- future_investment_value: 320,454.31\"\n",
    "result = accept.invoke({\"investment\": investment_goal})\n",
    "print(result)"
   ]
  },
  {
   "cell_type": "code",
   "execution_count": 327,
   "metadata": {},
   "outputs": [
    {
     "name": "stdout",
     "output_type": "stream",
     "text": [
      "content=\"Based on the provided investment information, let's evaluate the investment goal against the SMART criteria:\\n\\n1. **Specific**: The goal is somewhat specific as it states a target value of $50,000. However, it lacks clarity on what this amount is intended for (e.g., retirement, a purchase, etc.). Therefore, it could be considered not fully specific.\\n\\n2. **Measurable**: The goal is measurable since you have a clear target value of $50,000. However, the future investment value of $320,454.31 suggests that the goal may not be aligned with the initial target, which could lead to confusion about what is being measured.\\n\\n3. **Achievable**: The goal is marked as achievable, which indicates that the investment strategy is realistic given the initial investment, monthly contributions, and expected annual return. This condition is met.\\n\\n4. **Relevant**: While not explicitly stated, the relevance of the goal can be questioned if the target value of $50,000 is not aligned with the future investment value of $320,454.31. This discrepancy may indicate a lack of relevance to the actual investment strategy.\\n\\n5. **Time-bound**: The time horizon is set at 2 years, which provides a clear timeframe. However, if the goal is to reach $50,000 in 2 years, the current strategy appears to be misaligned, as the future investment value suggests a much higher return.\\n\\n### Conclusion:\\nThe investment goal is not SMART primarily because it is **not specific** enough regarding the purpose of the target value and may also lack **relevance** due to the discrepancy between the target value and the projected future investment value. Additionally, while it is measurable and time-bound, the misalignment raises questions about the overall clarity and focus of the goal.\" additional_kwargs={'refusal': None} response_metadata={'token_usage': {'completion_tokens': 366, 'prompt_tokens': 155, 'total_tokens': 521, 'completion_tokens_details': None}, 'model_name': 'gpt-4o-mini', 'system_fingerprint': 'fp_878413d04d', 'finish_reason': 'stop', 'logprobs': None, 'content_filter_results': {}} id='run-86532343-fe91-4c19-904d-da5c0b0470a1-0' usage_metadata={'input_tokens': 155, 'output_tokens': 366, 'total_tokens': 521}\n"
     ]
    }
   ],
   "source": [
    "refuse_system = \"\"\"You are a financial advisor tasked with explaining why the given investment goal is not SMART since it is at least not specific, not measurable, not fixed in time or not achievable. Try to to use the is_*** indicator to help you indetify what is(are) the condition(s) that is(are) not met!\"\"\"\n",
    "refuse_prompt = ChatPromptTemplate.from_messages(\n",
    "    [(\"system\", refuse_system), (\"human\", \"investment informations:\\n\\n {investment}\")]\n",
    ")\n",
    "\n",
    "refuse = refuse_prompt | llm\n",
    "\n",
    "investment_goal = \"Here are the details based on the evaluation:\\n\\n- initial_investment: 5,000\\n- monthly_contribution: 500\\n- annual_return: 2%\\n- target_value: 50,000\\n- time_horizon: 2 years\\n- is_achievable: True\\n- future_investment_value: 320,454.31\"\n",
    "result = refuse.invoke({\"investment\": investment_goal})\n",
    "print(result)"
   ]
  },
  {
   "cell_type": "code",
   "execution_count": 3,
   "metadata": {},
   "outputs": [],
   "source": [
    "from langgraph.graph import StateGraph, END\n",
    "from typing import TypedDict, Literal, Optional\n",
    "\n",
    "\n",
    "class AgentState(TypedDict):\n",
    "    query: str\n",
    "    goal: str = None\n",
    "    initial_investment: float = None\n",
    "    monthly_contribution: float = None\n",
    "    annual_return: float = None\n",
    "    target_value: float = None\n",
    "    time_horizon: int = None\n",
    "    is_specific: str = None\n",
    "    is_measurable: str = None\n",
    "    is_time: str = None\n",
    "    is_achievable: str = None\n",
    "    future_investment_value : float = None\n",
    "    final_response: str = None"
   ]
  },
  {
   "cell_type": "code",
   "execution_count": 4,
   "metadata": {},
   "outputs": [],
   "source": [
    "def check_smt_goal(state: AgentState) -> AgentState:\n",
    "    print(f\"check_smt_goal: Current state: {state}\")\n",
    "    result = check_smt.invoke({\"goal\":state['query']})\n",
    "    state['goal'] = result.goal\n",
    "    state['initial_investment'] = result.initial_investment\n",
    "    state['monthly_contribution'] = result.monthly_contribution\n",
    "    state['annual_return'] = result.annual_return\n",
    "    state['target_value'] = result.target_value\n",
    "    state['time_horizon'] = result.time_horizon\n",
    "    state['is_specific'] = result.is_specific\n",
    "    state['is_measurable'] = result.is_measurable\n",
    "    state['is_time'] = result.is_time\n",
    "    state['query'] = f\"\"\"{state['query']} \\n goal: {state['goal']} \\n initial_investment: {state['initial_investment']} \\n\n",
    "    monthly_contribution: {state['monthly_contribution']} \\n annual_return: {state['annual_return']} \\n target_value: {state['target_value']} \\n\n",
    "    time_horizon: {state['time_horizon']} \\n is_specific: {state['is_specific']} \\n is_measurable: {state['is_measurable']} \\n\n",
    "    is_time: {state['is_time']}\"\"\"\n",
    "    return state"
   ]
  },
  {
   "cell_type": "code",
   "execution_count": 5,
   "metadata": {},
   "outputs": [],
   "source": [
    "def check_achievable_goal(state: AgentState) -> AgentState:\n",
    "    print(f\"check_achievable_goal: Current state: {state}\")\n",
    "    query = state['query']\n",
    "    response = str(interact_with_llm_and_tools(achievable_template + query))\n",
    "    result = achievable.invoke(\n",
    "        {\n",
    "            \"input\": response\n",
    "        }\n",
    "    )\n",
    "    state['is_achievable'] = result.is_achievable\n",
    "    state['future_investment_value'] = result.future_investment_value\n",
    "    state['query'] = f\"\"\"{state['query']} \\n is_achievable: {state['is_achievable']} \\n \n",
    "    future_investment_value: {state['future_investment_value']}\"\"\"\n",
    "    return state"
   ]
  },
  {
   "cell_type": "code",
   "execution_count": null,
   "metadata": {},
   "outputs": [],
   "source": []
  },
  {
   "cell_type": "code",
   "execution_count": 6,
   "metadata": {},
   "outputs": [],
   "source": [
    "def accepted(state: AgentState) -> AgentState:\n",
    "    print(f\"accepted: Current state: {state}\")\n",
    "    investment = state[\"query\"]\n",
    "    result = accept.invoke({\"investment\": investment})\n",
    "    state[\"final_response\"] = result.content\n",
    "    return state"
   ]
  },
  {
   "cell_type": "code",
   "execution_count": 7,
   "metadata": {},
   "outputs": [],
   "source": [
    "def refused(state: AgentState) -> AgentState:\n",
    "    print(f\"refused: Current state: {state}\")\n",
    "    goal = state[\"query\"]\n",
    "    result = refuse.invoke({\"investment\": goal})\n",
    "    state[\"final_response\"] = result.content\n",
    "    return state"
   ]
  },
  {
   "cell_type": "code",
   "execution_count": null,
   "metadata": {},
   "outputs": [],
   "source": []
  },
  {
   "cell_type": "code",
   "execution_count": 8,
   "metadata": {},
   "outputs": [],
   "source": [
    "def is_smt_goal(state: AgentState) -> Literal[\"validate_achievability\", \"not_smart\"]:\n",
    "    print(f\"is_smt_goal: Current state: {state}\")\n",
    "    if (state['is_specific'] == \"True\") and (state['is_time'] == \"True\") and (state['is_measurable'] == \"True\"):\n",
    "        return \"validate_achievability\"\n",
    "    else:\n",
    "        return \"not_smart\""
   ]
  },
  {
   "cell_type": "code",
   "execution_count": 9,
   "metadata": {},
   "outputs": [],
   "source": [
    "def is_achievable_goal(state: AgentState) -> Literal[\"smart\", \"not_smart\"]:\n",
    "    print(f\"is_achievable_goal: Current state: {state}\")\n",
    "    if state['is_achievable'] == \"True\":\n",
    "        return \"smart\"\n",
    "    else:\n",
    "        return \"not_smart\""
   ]
  },
  {
   "cell_type": "code",
   "execution_count": 10,
   "metadata": {},
   "outputs": [],
   "source": [
    "def direct_to_respond(state: AgentState) -> Literal[\"respond\"]:\n",
    "    return \"respond\""
   ]
  },
  {
   "cell_type": "code",
   "execution_count": 11,
   "metadata": {},
   "outputs": [],
   "source": [
    "def send_final_answer(state: AgentState):\n",
    "    print(f\"is_achievable_goal: Current state: {state}\")\n",
    "    return state"
   ]
  },
  {
   "cell_type": "code",
   "execution_count": 15,
   "metadata": {},
   "outputs": [],
   "source": [
    "workflow = StateGraph(AgentState)\n",
    "\n",
    "workflow.add_node(\"validate_smt\", check_smt_goal)\n",
    "workflow.add_node(\"validate_achievability\", check_achievable_goal)\n",
    "workflow.add_node(\"smart\", accepted)\n",
    "workflow.add_node(\"not_smart\", refused)\n",
    "workflow.add_node(\"respond\", send_final_answer)\n",
    "\n",
    "workflow.set_entry_point(\"validate_smt\")\n",
    "\n",
    "workflow.add_conditional_edges(\n",
    "    \"validate_smt\", \n",
    "    is_smt_goal, \n",
    "    {\"validate_achievability\": \"validate_achievability\", \"not_smart\": \"not_smart\"}\n",
    ")\n",
    "\n",
    "workflow.add_conditional_edges(\n",
    "    \"validate_achievability\",\n",
    "    is_achievable_goal,\n",
    "    {\"smart\": \"smart\", \"not_smart\": \"not_smart\"}\n",
    ")\n",
    "\n",
    "workflow.add_edge(\n",
    "    \"smart\", \"respond\"\n",
    ")\n",
    "\n",
    "workflow.add_edge(\n",
    "    \"not_smart\", \"respond\"\n",
    ")\n",
    "\n",
    "workflow.add_edge(\"respond\", END)\n",
    "\n",
    "app = workflow.compile()"
   ]
  },
  {
   "cell_type": "code",
   "execution_count": 16,
   "metadata": {},
   "outputs": [
    {
     "data": {
      "image/jpeg": "[encoded data removed]",
      "text/plain": [
       "<IPython.core.display.Image object>"
      ]
     },
     "metadata": {},
     "output_type": "display_data"
    }
   ],
   "source": [
    "from IPython.display import Image, display\n",
    "\n",
    "try:\n",
    "    display(Image(app.get_graph(xray=True).draw_mermaid_png()))\n",
    "except:\n",
    "    pass"
   ]
  },
  {
   "cell_type": "code",
   "execution_count": 330,
   "metadata": {},
   "outputs": [
    {
     "name": "stdout",
     "output_type": "stream",
     "text": [
      "check_smt_goal: Current state: {'query': 'Actually, i want to build a restaurant. I estimated the costs they are 700 000$. I struggled to collect 300 000$. And i am willing to invest 1 000$ monthly! I am expecting annual return of 5%'}\n",
      "is_smt_goal: Current state: {'query': 'Actually, i want to build a restaurant. I estimated the costs they are 700 000$. I struggled to collect 300 000$. And i am willing to invest 1 000$ monthly! I am expecting annual return of 5% \\n goal: build a restaurant \\n initial_investment: 300000.0 \\n\\n    monthly_contribution: 1000.0 \\n annual_return: 0.05 \\n target_value: 700000.0 \\n\\n    time_horizon: 0 \\n is_specific: True \\n is_measurable: True \\n\\n    is_time: False', 'goal': 'build a restaurant', 'initial_investment': 300000.0, 'monthly_contribution': 1000.0, 'annual_return': 0.05, 'target_value': 700000.0, 'time_horizon': 0, 'is_specific': 'True', 'is_measurable': 'True', 'is_time': 'False'}\n",
      "refused: Current state: {'query': 'Actually, i want to build a restaurant. I estimated the costs they are 700 000$. I struggled to collect 300 000$. And i am willing to invest 1 000$ monthly! I am expecting annual return of 5% \\n goal: build a restaurant \\n initial_investment: 300000.0 \\n\\n    monthly_contribution: 1000.0 \\n annual_return: 0.05 \\n target_value: 700000.0 \\n\\n    time_horizon: 0 \\n is_specific: True \\n is_measurable: True \\n\\n    is_time: False', 'goal': 'build a restaurant', 'initial_investment': 300000.0, 'monthly_contribution': 1000.0, 'annual_return': 0.05, 'target_value': 700000.0, 'time_horizon': 0, 'is_specific': 'True', 'is_measurable': 'True', 'is_time': 'False'}\n",
      "is_achievable_goal: Current state: {'query': 'Actually, i want to build a restaurant. I estimated the costs they are 700 000$. I struggled to collect 300 000$. And i am willing to invest 1 000$ monthly! I am expecting annual return of 5% \\n goal: build a restaurant \\n initial_investment: 300000.0 \\n\\n    monthly_contribution: 1000.0 \\n annual_return: 0.05 \\n target_value: 700000.0 \\n\\n    time_horizon: 0 \\n is_specific: True \\n is_measurable: True \\n\\n    is_time: False', 'goal': 'build a restaurant', 'initial_investment': 300000.0, 'monthly_contribution': 1000.0, 'annual_return': 0.05, 'target_value': 700000.0, 'time_horizon': 0, 'is_specific': 'True', 'is_measurable': 'True', 'is_time': 'False', 'final_respone': \"Your investment goal of building a restaurant is not SMART for several reasons, particularly because it is not fixed in time. Let's break down the SMART criteria:\\n\\n1. **Specific**: Your goal is specific as you clearly state that you want to build a restaurant. You have also outlined the costs involved, which is a positive aspect.\\n\\n2. **Measurable**: The goal is measurable since you have defined the target value of $700,000 and your current contributions. You can track your progress towards this amount.\\n\\n3. **Achievable**: While you are willing to invest $1,000 monthly, we need to assess whether this amount, combined with your current savings and expected returns, will realistically allow you to reach your target of $700,000. \\n\\n4. **Relevant**: The goal seems relevant as it aligns with your desire to build a restaurant, assuming you have the necessary skills and market understanding.\\n\\n5. **Time-bound**: This is where your goal falls short. You have not specified a time horizon for when you want to achieve this target of $700,000. Without a clear deadline, it becomes difficult to measure progress and maintain motivation.\\n\\nIn summary, the condition that is not met is **is_time**. To make your goal SMART, you should define a specific timeframe within which you aim to accumulate the necessary funds to build your restaurant. For example, you could set a goal to reach $700,000 in five years. This would provide a clear deadline and help you plan your contributions and investments more effectively.\"}\n",
      "Final result: {'query': 'Actually, i want to build a restaurant. I estimated the costs they are 700 000$. I struggled to collect 300 000$. And i am willing to invest 1 000$ monthly! I am expecting annual return of 5% \\n goal: build a restaurant \\n initial_investment: 300000.0 \\n\\n    monthly_contribution: 1000.0 \\n annual_return: 0.05 \\n target_value: 700000.0 \\n\\n    time_horizon: 0 \\n is_specific: True \\n is_measurable: True \\n\\n    is_time: False', 'goal': 'build a restaurant', 'initial_investment': 300000.0, 'monthly_contribution': 1000.0, 'annual_return': 0.05, 'target_value': 700000.0, 'time_horizon': 0, 'is_specific': 'True', 'is_measurable': 'True', 'is_time': 'False', 'final_respone': \"Your investment goal of building a restaurant is not SMART for several reasons, particularly because it is not fixed in time. Let's break down the SMART criteria:\\n\\n1. **Specific**: Your goal is specific as you clearly state that you want to build a restaurant. You have also outlined the costs involved, which is a positive aspect.\\n\\n2. **Measurable**: The goal is measurable since you have defined the target value of $700,000 and your current contributions. You can track your progress towards this amount.\\n\\n3. **Achievable**: While you are willing to invest $1,000 monthly, we need to assess whether this amount, combined with your current savings and expected returns, will realistically allow you to reach your target of $700,000. \\n\\n4. **Relevant**: The goal seems relevant as it aligns with your desire to build a restaurant, assuming you have the necessary skills and market understanding.\\n\\n5. **Time-bound**: This is where your goal falls short. You have not specified a time horizon for when you want to achieve this target of $700,000. Without a clear deadline, it becomes difficult to measure progress and maintain motivation.\\n\\nIn summary, the condition that is not met is **is_time**. To make your goal SMART, you should define a specific timeframe within which you aim to accumulate the necessary funds to build your restaurant. For example, you could set a goal to reach $700,000 in five years. This would provide a clear deadline and help you plan your contributions and investments more effectively.\"}\n"
     ]
    }
   ],
   "source": [
    "initial_state = {\"query\": \"Actually, i want to build a restaurant. I estimated the costs they are 700 000$. I struggled to collect 300 000$. And i am willing to invest 1 000$ monthly! I am expecting annual return of 5%\"}\n",
    "result = app.invoke(initial_state)\n",
    "\n",
    "print(\"Final result:\", result)"
   ]
  },
  {
   "cell_type": "code",
   "execution_count": 373,
   "metadata": {},
   "outputs": [
    {
     "data": {
      "text/plain": [
       "str"
      ]
     },
     "execution_count": 373,
     "metadata": {},
     "output_type": "execute_result"
    }
   ],
   "source": [
    "type(result.get('final_respone'))"
   ]
  },
  {
   "cell_type": "code",
   "execution_count": null,
   "metadata": {},
   "outputs": [],
   "source": []
  },
  {
   "cell_type": "code",
   "execution_count": null,
   "metadata": {},
   "outputs": [],
   "source": []
  }
 ],
 "metadata": {
  "kernelspec": {
   "display_name": "customer-profiling-OUCVyox6-py3.12",
   "language": "python",
   "name": "python3"
  },
  "language_info": {
   "codemirror_mode": {
    "name": "ipython",
    "version": 3
   },
   "file_extension": ".py",
   "mimetype": "text/x-python",
   "name": "python",
   "nbconvert_exporter": "python",
   "pygments_lexer": "ipython3",
   "version": "3.12.4"
  }
 },
 "nbformat": 4,
 "nbformat_minor": 2
}
