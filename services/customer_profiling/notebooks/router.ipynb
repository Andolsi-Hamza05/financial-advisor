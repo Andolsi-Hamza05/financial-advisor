{
 "cells": [
  {
   "cell_type": "code",
   "execution_count": 8,
   "metadata": {},
   "outputs": [],
   "source": [
    "from langchain_openai import AzureChatOpenAI\n",
    "from dotenv import load_dotenv\n",
    "from langchain_core.prompts import ChatPromptTemplate\n",
    "from pydantic import BaseModel, Field, field_validator\n",
    "import os"
   ]
  },
  {
   "cell_type": "code",
   "execution_count": 2,
   "metadata": {},
   "outputs": [
    {
     "data": {
      "text/plain": [
       "True"
      ]
     },
     "execution_count": 2,
     "metadata": {},
     "output_type": "execute_result"
    }
   ],
   "source": [
    "load_dotenv()"
   ]
  },
  {
   "cell_type": "code",
   "execution_count": 3,
   "metadata": {},
   "outputs": [],
   "source": [
    "API_KEY = os.getenv('AZURE_OPENAI_API_KEY')\n",
    "ENDPOINT = os.getenv('AZURE_OPENAI_ENDPOINT')\n",
    "os.environ[\"AZURE_OPENAI_ENDPOINT\"] = ENDPOINT\n",
    "os.environ[\"AZURE_OPENAI_API_KEY\"] = API_KEY"
   ]
  },
  {
   "cell_type": "code",
   "execution_count": 5,
   "metadata": {},
   "outputs": [],
   "source": [
    "llm = AzureChatOpenAI(\n",
    "    azure_deployment=\"gpt-4o-mini\",\n",
    "    api_version=\"2023-03-15-preview\",\n",
    "    temperature=0,\n",
    "    max_tokens=None,\n",
    "    timeout=None,\n",
    "    max_retries=2,\n",
    ")"
   ]
  },
  {
   "cell_type": "code",
   "execution_count": 13,
   "metadata": {},
   "outputs": [],
   "source": [
    "class Router(BaseModel):\n",
    "    endpoint: str = Field(\n",
    "        description=\"The endpoint to route the request to\"\n",
    "    )\n",
    "\n",
    "    @field_validator('endpoint')\n",
    "    def validate_endpoint(cls, value):\n",
    "        allowed_endpoints = [\"check_smart\", \"fallback\", \"preferences_confirmation\"]\n",
    "        if value not in allowed_endpoints:\n",
    "            raise ValueError(f\"Invalid endpoint. Allowed endpoints are: {allowed_endpoints}\")\n",
    "        return value"
   ]
  },
  {
   "cell_type": "code",
   "execution_count": 14,
   "metadata": {},
   "outputs": [],
   "source": [
    "def check_router(llm):\n",
    "    structured_llm_smt_checker = llm.with_structured_output(Router)\n",
    "    router_template = \"\"\"\n",
    "    You are tasked to route the discussion to one of the three endpoints:\n",
    "    \"check_smart\": if the query is describing an investment goal explicitly!\n",
    "    \"preferences_confirmation\": If the user is describing an investment preference(for instance i don't want to invest in it industry, in companies that support a war!)\n",
    "    \"fallback\": If the investor is trying to chat or ask anything else\n",
    "    \"\"\"\n",
    "\n",
    "    route_prompt = ChatPromptTemplate.from_messages(\n",
    "        [(\"system\", router_template), (\"human\", \"The investor goal :\\n\\n {goal}\")]\n",
    "    )\n",
    "    router = route_prompt | structured_llm_smt_checker\n",
    "    return router"
   ]
  },
  {
   "cell_type": "code",
   "execution_count": 16,
   "metadata": {},
   "outputs": [
    {
     "name": "stdout",
     "output_type": "stream",
     "text": [
      "endpoint='check_smart'\n"
     ]
    }
   ],
   "source": [
    "app = check_router(llm)\n",
    "result = app.invoke({\"goal\": \"I want to invest my money and get a lot of money!\"})\n",
    "print(result)"
   ]
  },
  {
   "cell_type": "code",
   "execution_count": 20,
   "metadata": {},
   "outputs": [
    {
     "data": {
      "text/plain": [
       "str"
      ]
     },
     "execution_count": 20,
     "metadata": {},
     "output_type": "execute_result"
    }
   ],
   "source": [
    "type(result.endpoint)"
   ]
  },
  {
   "cell_type": "code",
   "execution_count": null,
   "metadata": {},
   "outputs": [],
   "source": []
  }
 ],
 "metadata": {
  "kernelspec": {
   "display_name": "customer-profiling-OUCVyox6-py3.12",
   "language": "python",
   "name": "python3"
  },
  "language_info": {
   "codemirror_mode": {
    "name": "ipython",
    "version": 3
   },
   "file_extension": ".py",
   "mimetype": "text/x-python",
   "name": "python",
   "nbconvert_exporter": "python",
   "pygments_lexer": "ipython3",
   "version": "3.12.4"
  }
 },
 "nbformat": 4,
 "nbformat_minor": 2
}
